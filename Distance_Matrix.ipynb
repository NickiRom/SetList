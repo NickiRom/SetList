{
 "metadata": {
  "name": "Distance_Matrix"
 },
 "nbformat": 3,
 "nbformat_minor": 0,
 "worksheets": [
  {
   "cells": [
    {
     "cell_type": "code",
     "collapsed": false,
     "input": [
      "import requests\n",
      "import json\n",
      "from json import load\n",
      "from pprint import pprint \n",
      "import urllib2\n",
      "from urllib2 import urlopen\n",
      "import pandas as pd\n",
      "from pandas import *\n",
      "import numpy as np\n",
      "import urllib\n",
      "import csv\n",
      "from collections import defaultdict\n",
      "from Beats2EchoNest import beats2echonest\n",
      "\n",
      "from scipy.spatial.distance import pdist, wminkowski, squareform\n",
      "import matplotlib.pyplot as plt\n",
      "import prettyplotlib as ppl\n",
      "\n",
      "def Distance_Matrix(summarydf):\n",
      "    \n",
      "    #convert to list of rows (list of lists)\n",
      "    for index in summarydf.ix[1]:\n",
      "        if row[1] == \" \":\n",
      "            trow = [\" \",\" \",\" \",\" \",\" \",\" \",\" \"]\n",
      "            print \"crap\"\n",
      "        else:\n",
      "            print row[2]\n",
      "            trow = []\n",
      "            trow.append(row[2])         #track_id\n",
      "            #trow.append(float(row[5]))  #tempo\n",
      "            #trow.append(float(row[6]))  #energy\n",
      "            #trow.append(float(row[11])) #danceability\n",
      "            #trow.append(float(row[14])) #loudness\n",
      "            #trow.append(float(row[15])) #valence\n",
      "            #list_of_songdata.append(trow)\n",
      "\n",
      "\n",
      "    ranges = zip(*list_of_songdata)[1:]\n",
      "    minimum = map(min, ranges)\n",
      "    maximum = map(max, ranges)\n",
      "    rangemap = [m-n for m,n in zip( maximum, minimum)]\n",
      "    \n",
      "    weights = [float(1/r) for r in rangemap]\n",
      "    \n",
      "    X = np.array(list_of_songdata)\n",
      "    \n",
      "    X1 = X[:, 1:]\n",
      "    print X1\n",
      "    \n",
      "    distances = pdist(X1, wminkowski, 2, weights)\n",
      "    distance_matrix= squareform(distances)\n",
      "    print dist_matrix\n",
      "    \n",
      "    distancelist = []\n",
      "    for index in range(0,17):\n",
      "        distancelist.append(dist_matrix[index])\n",
      "    \n",
      "    return dist_matrix\n",
      "\n",
      "'''with open(\"/home/vanessa/NHRInsightFL/Playlist1DistanceMatrixsmall.csv\", \"wb\") as f:\n",
      "    writer = csv.writer(f)\n",
      "    writer.writerows(distance_matrix)'''\n",
      "\n",
      "\n",
      "\n",
      "    "
     ],
     "language": "python",
     "metadata": {},
     "outputs": [
      {
       "output_type": "pyout",
       "prompt_number": 2,
       "text": [
        "'with open(\"/home/vanessa/NHRInsightFL/Playlist1DistanceMatrixsmall.csv\", \"wb\") as f:\\n    writer = csv.writer(f)\\n    writer.writerows(distance_matrix)'"
       ]
      }
     ],
     "prompt_number": 2
    },
    {
     "cell_type": "code",
     "collapsed": false,
     "input": [],
     "language": "python",
     "metadata": {},
     "outputs": [
      {
       "output_type": "stream",
       "stream": "stdout",
       "text": [
        "[ 0.75805029  0.78496067  0.          0.4709383   0.44458169  0.6414528\n",
        "  1.0547178   0.93770952  0.71119129  0.86612805  0.64498122  0.72180982\n",
        "  0.96904145  0.5658855   0.94090628  0.62360456  0.67608978  0.57828628\n",
        "  0.92345293]\n"
       ]
      }
     ],
     "prompt_number": 14
    },
    {
     "cell_type": "code",
     "collapsed": false,
     "input": [
      "fig, ax = plt.subplots(1)\n",
      "data = np.loadtxt(open(\"/home/vanessa/NHRInsightFL/Playlist1DistanceMatrixsmall.csv\",\"rb\"),delimiter=\",\",skiprows=1)\n",
      "transformed=[]\n",
      "\n",
      "print \n",
      "for line in data:\n",
      "    transline = []\n",
      "    for index, bit in enumerate(line):\n",
      "        bity = -0.8*float(bit)+1\n",
      "        #print bity\n",
      "        transline.append(bity)\n",
      "    transformed.append(transline)\n",
      "transformed = np.array(transformed)\n",
      "\n",
      "fig, ax = ppl.subplots(1)\n",
      "\n",
      "\n",
      "ppl.pcolormesh(fig, ax, transformed)\n",
      "fig.savefig('pcolormesh_prettyplotlib_default.png')"
     ],
     "language": "python",
     "metadata": {},
     "outputs": [
      {
       "output_type": "stream",
       "stream": "stdout",
       "text": [
        "\n"
       ]
      }
     ],
     "prompt_number": 25
    },
    {
     "cell_type": "code",
     "collapsed": false,
     "input": [],
     "language": "python",
     "metadata": {},
     "outputs": []
    }
   ],
   "metadata": {}
  }
 ]
}